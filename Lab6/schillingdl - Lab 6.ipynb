{
 "cells": [
  {
   "cell_type": "markdown",
   "metadata": {},
   "source": [
    "## Lab 6:  Regression\n",
    "#### CS 3300\n",
    "#### Draven Schilling\n",
    "#### 11/1/19\n",
    "First created in 1949, Motor Trend US is an automobile magazine by The Motor Trend Group out of Los Angeles California. The magazine provides information such as road tests, vehicle comparisons, automobile trends and some unique featured cars. It's popularity has increased over the years and as of 2019 it has over a million concurrent readers worldwide. \n",
    "\n",
    "In this notebook we will be looking at a provided chart from a 1974 issue of Motor Trend which contains fuel efficiency along with 10 other aspects of automobile design and performance for 32 different cars from 1973-1974. The data contains 32 different cars and 10 categories plus the vehicle name. The features are as follows:\n",
    "\n",
    "•\tmpg -- miles per gallon\n",
    "•\tcyl -- numbers of cylinders\n",
    "•\tdisp -- displacement (cu. in.)\n",
    "•\thp -- gross horsepower\n",
    "•\tdrat -- rear axle ratio\n",
    "•\twt -- weight (in 1000s of lbs)\n",
    "•\tqsec -- 1/4 mile time\n",
    "•\tvs -- Engine Shape (0 = V-shaped, 1 = straight) \n",
    "•\tam -- transmission (0 = automatic, 1 = manual)\n",
    "•\tgear -- number of forward gears\n",
    "•\tcarb -- number of carburetors\n",
    "\n",
    "In this notebook we will be analyzing the fuel efficiency of these cars as miles per gallon and determine which features are most impactful to a car's fuel efficiency. First, we will be doing some exploratory data analysis then using supervised machine learning algorithms to determine the predictive power for each feature and finally create some models using the features that are most powerful predictors.\n"
   ]
  },
  {
   "cell_type": "code",
   "execution_count": 1,
   "metadata": {},
   "outputs": [],
   "source": [
    "import numpy as np\n",
    "import scipy.stats as stats\n",
    "import matplotlib.pyplot as plt\n",
    "import pandas as pd\n",
    "import datetime as dt\n",
    "import seaborn as sns\n",
    "\n",
    "from sklearn.linear_model import SGDRegressor\n",
    "from sklearn.metrics import mean_squared_error\n",
    "from sklearn.model_selection import train_test_split\n",
    "from sklearn.preprocessing import Imputer\n",
    "from sklearn.preprocessing import StandardScaler"
   ]
  },
  {
   "cell_type": "code",
   "execution_count": 2,
   "metadata": {},
   "outputs": [
    {
     "name": "stdout",
     "output_type": "stream",
     "text": [
      "<class 'pandas.core.frame.DataFrame'>\n",
      "RangeIndex: 32 entries, 0 to 31\n",
      "Data columns (total 12 columns):\n",
      "Unnamed: 0    32 non-null object\n",
      "mpg           32 non-null float64\n",
      "cyl           32 non-null int64\n",
      "disp          32 non-null float64\n",
      "hp            32 non-null int64\n",
      "drat          32 non-null float64\n",
      "wt            32 non-null float64\n",
      "qsec          32 non-null float64\n",
      "vs            32 non-null int64\n",
      "am            32 non-null int64\n",
      "gear          32 non-null int64\n",
      "carb          32 non-null int64\n",
      "dtypes: float64(5), int64(6), object(1)\n",
      "memory usage: 3.1+ KB\n"
     ]
    }
   ],
   "source": [
    "cars_df = pd.read_csv(\"mtcars.csv\")\n",
    "cars_df.info()"
   ]
  },
  {
   "cell_type": "markdown",
   "metadata": {},
   "source": [
    "### 1. Initial Hypotheses\n",
    "The first goal is to identify which variables are most closely correlated with miles per gallon.\n",
    "Based on my initial inspection I would believe metrics which have a strong impact on the amount of fuel used directly correlate with the power input of the automobile. In my opinion this would include number of cylinders, horsepower, and rear axle ratio (drat) to be the most strongly corelated with miles per gallon. Metrics such as mile time (qsec), engine shape (vs), and transmission type (am) I believe impact the amount of fuel used the least so I hypothesize these metrics will be the least correlated. Other features may correlate slightly but not strongly.\n",
    "\n",
    "### 2. Cleaning the Data\n",
    "Next, it will be useful to clean the data such that the column headers and types make sense and that missing values are dealt with. Fortunately there are no missing values so we don't have to impute or remove rows but I think it would be valuable to make the following changes.\n",
    "Rename the Unnamed column to car_name to provide a more descriptive name. Next make both vs and am categorical because they can only be 1 of two bins. It may also be wise to make number of cylinders, number of forward gears, and number of carburetors all categorical."
   ]
  },
  {
   "cell_type": "code",
   "execution_count": 3,
   "metadata": {},
   "outputs": [
    {
     "data": {
      "text/html": [
       "<div>\n",
       "<style scoped>\n",
       "    .dataframe tbody tr th:only-of-type {\n",
       "        vertical-align: middle;\n",
       "    }\n",
       "\n",
       "    .dataframe tbody tr th {\n",
       "        vertical-align: top;\n",
       "    }\n",
       "\n",
       "    .dataframe thead th {\n",
       "        text-align: right;\n",
       "    }\n",
       "</style>\n",
       "<table border=\"1\" class=\"dataframe\">\n",
       "  <thead>\n",
       "    <tr style=\"text-align: right;\">\n",
       "      <th></th>\n",
       "      <th>car_name</th>\n",
       "      <th>mpg</th>\n",
       "      <th>cyl</th>\n",
       "      <th>disp</th>\n",
       "      <th>hp</th>\n",
       "      <th>drat</th>\n",
       "      <th>wt</th>\n",
       "      <th>qsec</th>\n",
       "      <th>vs</th>\n",
       "      <th>am</th>\n",
       "      <th>gear</th>\n",
       "      <th>carb</th>\n",
       "    </tr>\n",
       "  </thead>\n",
       "  <tbody>\n",
       "    <tr>\n",
       "      <th>0</th>\n",
       "      <td>Mazda RX4</td>\n",
       "      <td>21.0</td>\n",
       "      <td>6</td>\n",
       "      <td>160.0</td>\n",
       "      <td>110</td>\n",
       "      <td>3.90</td>\n",
       "      <td>2.620</td>\n",
       "      <td>16.46</td>\n",
       "      <td>V-shaped</td>\n",
       "      <td>manual</td>\n",
       "      <td>4</td>\n",
       "      <td>4</td>\n",
       "    </tr>\n",
       "    <tr>\n",
       "      <th>1</th>\n",
       "      <td>Mazda RX4 Wag</td>\n",
       "      <td>21.0</td>\n",
       "      <td>6</td>\n",
       "      <td>160.0</td>\n",
       "      <td>110</td>\n",
       "      <td>3.90</td>\n",
       "      <td>2.875</td>\n",
       "      <td>17.02</td>\n",
       "      <td>V-shaped</td>\n",
       "      <td>manual</td>\n",
       "      <td>4</td>\n",
       "      <td>4</td>\n",
       "    </tr>\n",
       "    <tr>\n",
       "      <th>2</th>\n",
       "      <td>Datsun 710</td>\n",
       "      <td>22.8</td>\n",
       "      <td>4</td>\n",
       "      <td>108.0</td>\n",
       "      <td>93</td>\n",
       "      <td>3.85</td>\n",
       "      <td>2.320</td>\n",
       "      <td>18.61</td>\n",
       "      <td>straight</td>\n",
       "      <td>manual</td>\n",
       "      <td>4</td>\n",
       "      <td>1</td>\n",
       "    </tr>\n",
       "    <tr>\n",
       "      <th>3</th>\n",
       "      <td>Hornet 4 Drive</td>\n",
       "      <td>21.4</td>\n",
       "      <td>6</td>\n",
       "      <td>258.0</td>\n",
       "      <td>110</td>\n",
       "      <td>3.08</td>\n",
       "      <td>3.215</td>\n",
       "      <td>19.44</td>\n",
       "      <td>straight</td>\n",
       "      <td>automatic</td>\n",
       "      <td>3</td>\n",
       "      <td>1</td>\n",
       "    </tr>\n",
       "    <tr>\n",
       "      <th>4</th>\n",
       "      <td>Hornet Sportabout</td>\n",
       "      <td>18.7</td>\n",
       "      <td>8</td>\n",
       "      <td>360.0</td>\n",
       "      <td>175</td>\n",
       "      <td>3.15</td>\n",
       "      <td>3.440</td>\n",
       "      <td>17.02</td>\n",
       "      <td>V-shaped</td>\n",
       "      <td>automatic</td>\n",
       "      <td>3</td>\n",
       "      <td>2</td>\n",
       "    </tr>\n",
       "  </tbody>\n",
       "</table>\n",
       "</div>"
      ],
      "text/plain": [
       "            car_name   mpg cyl   disp   hp  drat     wt   qsec        vs  \\\n",
       "0          Mazda RX4  21.0   6  160.0  110  3.90  2.620  16.46  V-shaped   \n",
       "1      Mazda RX4 Wag  21.0   6  160.0  110  3.90  2.875  17.02  V-shaped   \n",
       "2         Datsun 710  22.8   4  108.0   93  3.85  2.320  18.61  straight   \n",
       "3     Hornet 4 Drive  21.4   6  258.0  110  3.08  3.215  19.44  straight   \n",
       "4  Hornet Sportabout  18.7   8  360.0  175  3.15  3.440  17.02  V-shaped   \n",
       "\n",
       "          am gear carb  \n",
       "0     manual    4    4  \n",
       "1     manual    4    4  \n",
       "2     manual    4    1  \n",
       "3  automatic    3    1  \n",
       "4  automatic    3    2  "
      ]
     },
     "execution_count": 3,
     "metadata": {},
     "output_type": "execute_result"
    }
   ],
   "source": [
    "def convertVs(val):\n",
    "    return \"V-shaped\" if val == 0 else \"straight\"\n",
    "\n",
    "\n",
    "def convertAm(val):\n",
    "    return \"automatic\" if val == 0 else \"manual\"\n",
    "        \n",
    "\n",
    "cars_df['vs'] = cars_df[\"vs\"].map(lambda s: convertVs(s))\n",
    "cars_df['am'] = cars_df[\"am\"].map(lambda s: convertAm(s))\n",
    "cars_df.rename(columns={\"Unnamed: 0\": \"car_name\"}, inplace = True)\n",
    "cars_df.cyl = cars_df.cyl.astype(\"category\")\n",
    "cars_df.gear = cars_df.gear.astype(\"category\")\n",
    "cars_df.carb = cars_df.carb.astype(\"category\")\n",
    "cars_df.vs = cars_df.vs.astype(\"category\")\n",
    "cars_df.am = cars_df.am.astype(\"category\")\n",
    "cars_df.head()"
   ]
  },
  {
   "cell_type": "code",
   "execution_count": 4,
   "metadata": {},
   "outputs": [
    {
     "name": "stdout",
     "output_type": "stream",
     "text": [
      "<class 'pandas.core.frame.DataFrame'>\n",
      "RangeIndex: 32 entries, 0 to 31\n",
      "Data columns (total 12 columns):\n",
      "car_name    32 non-null object\n",
      "mpg         32 non-null float64\n",
      "cyl         32 non-null category\n",
      "disp        32 non-null float64\n",
      "hp          32 non-null int64\n",
      "drat        32 non-null float64\n",
      "wt          32 non-null float64\n",
      "qsec        32 non-null float64\n",
      "vs          32 non-null category\n",
      "am          32 non-null category\n",
      "gear        32 non-null category\n",
      "carb        32 non-null category\n",
      "dtypes: category(5), float64(5), int64(1), object(1)\n",
      "memory usage: 2.6+ KB\n"
     ]
    }
   ],
   "source": [
    "cars_df.info()"
   ]
  },
  {
   "cell_type": "markdown",
   "metadata": {},
   "source": [
    "### 3. Characterization of each variable \n",
    "Next, it may be useful to get a better idea of each variable by making a histogram of each. This will give us a distribution and range for each which we can then potentially use to better predict relations."
   ]
  },
  {
   "cell_type": "code",
   "execution_count": 5,
   "metadata": {},
   "outputs": [
    {
     "name": "stdout",
     "output_type": "stream",
     "text": [
      "Number of cylinders\n"
     ]
    },
    {
     "data": {
      "image/png": "[encoded data removed]",
      "text/plain": [
       "<Figure size 432x288 with 1 Axes>"
      ]
     },
     "metadata": {
      "needs_background": "light"
     },
     "output_type": "display_data"
    }
   ],
   "source": [
    "cars_df['cyl'].value_counts().plot.bar()\n",
    "print(\"Number of cylinders\")"
   ]
  },
  {
   "cell_type": "code",
   "execution_count": 6,
   "metadata": {},
   "outputs": [
    {
     "name": "stdout",
     "output_type": "stream",
     "text": [
      "Displacement (cu.in.):\n",
      "min: 71.1 max: 472.0\n"
     ]
    },
    {
     "data": {
      "image/png": "[encoded data removed]",
      "text/plain": [
       "<Figure size 432x288 with 1 Axes>"
      ]
     },
     "metadata": {
      "needs_background": "light"
     },
     "output_type": "display_data"
    }
   ],
   "source": [
    "cars_df['disp'].value_counts().plot.bar()\n",
    "print(\"Displacement (cu.in.):\")\n",
    "print(\"min: \" + cars_df['disp'].min().astype(str) + \" max: \" + cars_df['disp'].max().astype(str))"
   ]
  },
  {
   "cell_type": "code",
   "execution_count": 7,
   "metadata": {},
   "outputs": [
    {
     "name": "stdout",
     "output_type": "stream",
     "text": [
      "gross horsepower:\n",
      "min: 52 max: 335\n"
     ]
    },
    {
     "data": {
      "image/png": "[encoded data removed]",
      "text/plain": [
       "<Figure size 432x288 with 1 Axes>"
      ]
     },
     "metadata": {
      "needs_background": "light"
     },
     "output_type": "display_data"
    }
   ],
   "source": [
    "cars_df['hp'].value_counts().plot.bar()\n",
    "print(\"gross horsepower:\")\n",
    "print(\"min: \" + cars_df['hp'].min().astype(str) + \" max: \" + cars_df['hp'].max().astype(str))"
   ]
  },
  {
   "cell_type": "code",
   "execution_count": 8,
   "metadata": {},
   "outputs": [
    {
     "name": "stdout",
     "output_type": "stream",
     "text": [
      "rear axel ratio:\n",
      "min: 2.76 max: 4.93\n"
     ]
    },
    {
     "data": {
      "image/png": "[encoded data removed]",
      "text/plain": [
       "<Figure size 432x288 with 1 Axes>"
      ]
     },
     "metadata": {
      "needs_background": "light"
     },
     "output_type": "display_data"
    }
   ],
   "source": [
    "cars_df['drat'].value_counts().plot.bar()\n",
    "print(\"rear axel ratio:\")\n",
    "print(\"min: \" + cars_df['drat'].min().astype(str) + \" max: \" + cars_df['drat'].max().astype(str))"
   ]
  },
  {
   "cell_type": "code",
   "execution_count": 9,
   "metadata": {},
   "outputs": [
    {
     "name": "stdout",
     "output_type": "stream",
     "text": [
      "weight (in 1000's of lbs):\n",
      "min: 1.5130000000000001 max: 5.4239999999999995\n"
     ]
    },
    {
     "data": {
      "image/png": "[encoded data removed]",
      "text/plain": [
       "<Figure size 432x288 with 1 Axes>"
      ]
     },
     "metadata": {
      "needs_background": "light"
     },
     "output_type": "display_data"
    }
   ],
   "source": [
    "cars_df['wt'].value_counts().plot.bar()\n",
    "print(\"weight (in 1000's of lbs):\")\n",
    "print(\"min: \" + cars_df['wt'].min().astype(str) + \" max: \" + cars_df['wt'].max().astype(str))"
   ]
  },
  {
   "cell_type": "code",
   "execution_count": 10,
   "metadata": {},
   "outputs": [
    {
     "name": "stdout",
     "output_type": "stream",
     "text": [
      "1/4 mile time:\n",
      "min: 14.5 max: 22.9\n"
     ]
    },
    {
     "data": {
      "image/png": "[encoded data removed]",
      "text/plain": [
       "<Figure size 432x288 with 1 Axes>"
      ]
     },
     "metadata": {
      "needs_background": "light"
     },
     "output_type": "display_data"
    }
   ],
   "source": [
    "cars_df['qsec'].value_counts().plot.bar()\n",
    "print(\"1/4 mile time:\")\n",
    "print(\"min: \" + cars_df['qsec'].min().astype(str) + \" max: \" + cars_df['qsec'].max().astype(str))"
   ]
  },
  {
   "cell_type": "code",
   "execution_count": 11,
   "metadata": {},
   "outputs": [
    {
     "name": "stdout",
     "output_type": "stream",
     "text": [
      "Engine Shape\n"
     ]
    },
    {
     "data": {
      "image/png": "[encoded data removed]",
      "text/plain": [
       "<Figure size 432x288 with 1 Axes>"
      ]
     },
     "metadata": {
      "needs_background": "light"
     },
     "output_type": "display_data"
    }
   ],
   "source": [
    "cars_df['vs'].value_counts().plot.bar()\n",
    "print(\"Engine Shape\")"
   ]
  },
  {
   "cell_type": "code",
   "execution_count": 12,
   "metadata": {},
   "outputs": [
    {
     "data": {
      "text/plain": [
       "<matplotlib.axes._subplots.AxesSubplot at 0x19e9d311470>"
      ]
     },
     "execution_count": 12,
     "metadata": {},
     "output_type": "execute_result"
    },
    {
     "data": {
      "image/png": "[encoded data removed]",
      "text/plain": [
       "<Figure size 432x288 with 1 Axes>"
      ]
     },
     "metadata": {
      "needs_background": "light"
     },
     "output_type": "display_data"
    }
   ],
   "source": [
    "cars_df['am'].value_counts().plot.bar()"
   ]
  },
  {
   "cell_type": "code",
   "execution_count": 13,
   "metadata": {},
   "outputs": [
    {
     "name": "stdout",
     "output_type": "stream",
     "text": [
      "Number of forward gears:\n"
     ]
    },
    {
     "data": {
      "image/png": "[encoded data removed]",
      "text/plain": [
       "<Figure size 432x288 with 1 Axes>"
      ]
     },
     "metadata": {
      "needs_background": "light"
     },
     "output_type": "display_data"
    }
   ],
   "source": [
    "cars_df['gear'].value_counts().plot.bar()\n",
    "print(\"Number of forward gears:\")"
   ]
  },
  {
   "cell_type": "code",
   "execution_count": 14,
   "metadata": {},
   "outputs": [
    {
     "name": "stdout",
     "output_type": "stream",
     "text": [
      "Number of carburetors:\n"
     ]
    },
    {
     "data": {
      "image/png": "[encoded data removed]",
      "text/plain": [
       "<Figure size 432x288 with 1 Axes>"
      ]
     },
     "metadata": {
      "needs_background": "light"
     },
     "output_type": "display_data"
    }
   ],
   "source": [
    "cars_df['carb'].value_counts().plot.bar()\n",
    "print(\"Number of carburetors:\")"
   ]
  },
  {
   "cell_type": "markdown",
   "metadata": {},
   "source": [
    "From this inspection we can tell only number of cylinders, engine shape, transmission, number of forward gears, and number of carburetors all have well defined \"bins\" whereas the other categories seem to be mostly independent based on the car.\n",
    "We can also tell that displacement and horsepower have a very large range whereas real axel ratio, weight, and 1/4 mile time are all more closely clumped within a smaller range."
   ]
  },
  {
   "cell_type": "markdown",
   "metadata": {},
   "source": [
    "### 4. Exploring Relationships between variables and mpg\n",
    "Next, we put our hypothesizes to the test. We will attempt to plot each variable against mpg and see if there is any correlation and if our hypothesis was correct or not.\n",
    "\n",
    "First, we will start with number of cylinders."
   ]
  },
  {
   "cell_type": "code",
   "execution_count": 15,
   "metadata": {},
   "outputs": [
    {
     "data": {
      "text/plain": [
       "<matplotlib.axes._subplots.AxesSubplot at 0x19e9b8c4b00>"
      ]
     },
     "execution_count": 15,
     "metadata": {},
     "output_type": "execute_result"
    },
    {
     "data": {
      "image/png": "[encoded data removed]",
      "text/plain": [
       "<Figure size 432x288 with 1 Axes>"
      ]
     },
     "metadata": {
      "needs_background": "light"
     },
     "output_type": "display_data"
    }
   ],
   "source": [
    "cars_df.boxplot(by=\"cyl\", column=\"mpg\")"
   ]
  },
  {
   "cell_type": "markdown",
   "metadata": {},
   "source": [
    "For number of cylinders it seems clear there is a strong correlation such that as cylinders decrease, mpg also decreases. My initial hypothesis seems to so far be accurate about some of the influencers for what impacts mpg.\n",
    "\n",
    "Next we will look at displacement."
   ]
  },
  {
   "cell_type": "code",
   "execution_count": 16,
   "metadata": {},
   "outputs": [
    {
     "data": {
      "text/plain": [
       "<matplotlib.axes._subplots.AxesSubplot at 0x19e9d2c7748>"
      ]
     },
     "execution_count": 16,
     "metadata": {},
     "output_type": "execute_result"
    },
    {
     "data": {
      "image/png": "[encoded data removed]",
      "text/plain": [
       "<Figure size 432x288 with 1 Axes>"
      ]
     },
     "metadata": {
      "needs_background": "light"
     },
     "output_type": "display_data"
    }
   ],
   "source": [
    "cars_df.plot(x='disp', y='mpg', kind='scatter')"
   ]
  },
  {
   "cell_type": "markdown",
   "metadata": {},
   "source": [
    "For displacement, mpg trends downward as displacement increases in a more exponential relationship where it starts off with slight changes in displacement at the lower end (say 100-200 cu. in) impacting the mpg strongly but any further change impacts much less. Overall, I would still suggest this data is correlated with mpg, just maybe not as strongly as the number of cylinders was. \n",
    "\n",
    "Next, let’s look at horsepower."
   ]
  },
  {
   "cell_type": "code",
   "execution_count": 17,
   "metadata": {},
   "outputs": [
    {
     "data": {
      "text/plain": [
       "<matplotlib.axes._subplots.AxesSubplot at 0x19e9d448c50>"
      ]
     },
     "execution_count": 17,
     "metadata": {},
     "output_type": "execute_result"
    },
    {
     "data": {
      "image/png": "[encoded data removed]",
      "text/plain": [
       "<Figure size 432x288 with 1 Axes>"
      ]
     },
     "metadata": {
      "needs_background": "light"
     },
     "output_type": "display_data"
    }
   ],
   "source": [
    "cars_df.plot(x='hp', y='mpg', kind='scatter')"
   ]
  },
  {
   "cell_type": "markdown",
   "metadata": {},
   "source": [
    "Horsepower seems to trend similarly as displacement does such that changing from 100-200 hp has a significant impact on decreasing mpg whereas anything after 200hp does not seem to have much further of an impact.  Based on this observation and the general spread of the data, I would suggest horsepower has a similar, maybe slightly worse correlation then displacement. My initial hypothesis suggested there would be a greater correlation between horsepower and mpg then what I believe is present so at this rate it may start leaning towards incorrect.\n",
    "\n",
    "Next, let’s look at rear axle ratio."
   ]
  },
  {
   "cell_type": "code",
   "execution_count": 18,
   "metadata": {},
   "outputs": [
    {
     "data": {
      "text/plain": [
       "<matplotlib.axes._subplots.AxesSubplot at 0x19e9d3875f8>"
      ]
     },
     "execution_count": 18,
     "metadata": {},
     "output_type": "execute_result"
    },
    {
     "data": {
      "image/png": "[encoded data removed]",
      "text/plain": [
       "<Figure size 432x288 with 1 Axes>"
      ]
     },
     "metadata": {
      "needs_background": "light"
     },
     "output_type": "display_data"
    }
   ],
   "source": [
    "cars_df.plot(x='drat', y='mpg', kind='scatter')"
   ]
  },
  {
   "cell_type": "markdown",
   "metadata": {},
   "source": [
    "For rear axle ratio there does seem to be a general linear trend towards larger ratios having better mpg but the spread is much larger than any of the previous variables we analyzed. Given this fact, I would suggest this correlation to be the lowest we have looked at so far. My initial hypothesis suggested a strong correlation because I thought having a higher ratio would make you more efficient, but it seems like does not have as great of an effect as I initially thought.\n",
    "\n",
    "Next, lets look at a cars weight in relation to mpg."
   ]
  },
  {
   "cell_type": "code",
   "execution_count": 19,
   "metadata": {},
   "outputs": [
    {
     "data": {
      "text/plain": [
       "<matplotlib.axes._subplots.AxesSubplot at 0x19e9d64fe10>"
      ]
     },
     "execution_count": 19,
     "metadata": {},
     "output_type": "execute_result"
    },
    {
     "data": {
      "image/png": "[encoded data removed]",
      "text/plain": [
       "<Figure size 432x288 with 1 Axes>"
      ]
     },
     "metadata": {
      "needs_background": "light"
     },
     "output_type": "display_data"
    }
   ],
   "source": [
    "cars_df.plot(x='wt', y='mpg', kind='scatter')"
   ]
  },
  {
   "cell_type": "markdown",
   "metadata": {},
   "source": [
    "Weight seems to be correlated similarly as displacement and horsepower except that it may be a bit more linear and therefore better according to the Pearson correlation coefficient.\n",
    "\n",
    "Next, let’s look at 1/4 mile time."
   ]
  },
  {
   "cell_type": "code",
   "execution_count": 20,
   "metadata": {},
   "outputs": [
    {
     "data": {
      "text/plain": [
       "<matplotlib.axes._subplots.AxesSubplot at 0x19e9d6ddb38>"
      ]
     },
     "execution_count": 20,
     "metadata": {},
     "output_type": "execute_result"
    },
    {
     "data": {
      "image/png": "[encoded data removed]",
      "text/plain": [
       "<Figure size 432x288 with 1 Axes>"
      ]
     },
     "metadata": {
      "needs_background": "light"
     },
     "output_type": "display_data"
    }
   ],
   "source": [
    "cars_df.plot(x='qsec', y='mpg', kind='scatter')"
   ]
  },
  {
   "cell_type": "markdown",
   "metadata": {},
   "source": [
    "For 1/4-mile time, the spread seems to be too large to conclude any correlation from the data. My hypothesis also supported this idea because I hypothesized mile time would not be related to power metrics such as horsepower / axel ratio and therefore would not be directly related to mpg.\n",
    "\n",
    "Next let’s look at engine shape."
   ]
  },
  {
   "cell_type": "code",
   "execution_count": 21,
   "metadata": {},
   "outputs": [
    {
     "data": {
      "text/plain": [
       "<matplotlib.axes._subplots.AxesSubplot at 0x19e9d731208>"
      ]
     },
     "execution_count": 21,
     "metadata": {},
     "output_type": "execute_result"
    },
    {
     "data": {
      "image/png": "[encoded data removed]",
      "text/plain": [
       "<Figure size 432x288 with 1 Axes>"
      ]
     },
     "metadata": {
      "needs_background": "light"
     },
     "output_type": "display_data"
    }
   ],
   "source": [
    "cars_df.boxplot(by=\"vs\", column=\"mpg\")"
   ]
  },
  {
   "cell_type": "markdown",
   "metadata": {},
   "source": [
    "Initially I thought engine shape would have little to no impact on mpg because I wasn't sure how the science behind the different models could make that much of a difference. The data on the other hand, is surprising because there is clearly separation between the two with their medians being almost 5 mpg apart. I am still not sure why there could be this much of a difference the data clearly shows a correlation between engine shape and mpg.\n",
    "\n",
    "Next let’s look at transmission type."
   ]
  },
  {
   "cell_type": "code",
   "execution_count": 22,
   "metadata": {},
   "outputs": [
    {
     "data": {
      "text/plain": [
       "<matplotlib.axes._subplots.AxesSubplot at 0x19e9d731470>"
      ]
     },
     "execution_count": 22,
     "metadata": {},
     "output_type": "execute_result"
    },
    {
     "data": {
      "image/png": "[encoded data removed]",
      "text/plain": [
       "<Figure size 432x288 with 1 Axes>"
      ]
     },
     "metadata": {
      "needs_background": "light"
     },
     "output_type": "display_data"
    }
   ],
   "source": [
    "cars_df.boxplot(by=\"am\", column=\"mpg\")"
   ]
  },
  {
   "cell_type": "markdown",
   "metadata": {},
   "source": [
    "Again, I am surprised to notice a separation between manual and automatic transmissions. Though the medians are still about 5 mpg apart, I would say the spreads of each are much closer together then engine shape; therefore, I would conclude still having a correlation between the two except the correlation being smaller than engine shape. I am also still curious here as to why there would be a difference between mpg and transmission type. Maybe humans are still more efficient at when to change gears or perhaps the simplicity of manual transmissions make them more efficient then automatic. Regardless, an interesting observation.\n",
    "\n",
    "Down to the last two variables, let’s look at how the number of gears affect mpg."
   ]
  },
  {
   "cell_type": "code",
   "execution_count": 23,
   "metadata": {},
   "outputs": [
    {
     "data": {
      "text/plain": [
       "<matplotlib.axes._subplots.AxesSubplot at 0x19e9d4f2c50>"
      ]
     },
     "execution_count": 23,
     "metadata": {},
     "output_type": "execute_result"
    },
    {
     "data": {
      "image/png": "[encoded data removed]",
      "text/plain": [
       "<Figure size 432x288 with 1 Axes>"
      ]
     },
     "metadata": {
      "needs_background": "light"
     },
     "output_type": "display_data"
    }
   ],
   "source": [
    "cars_df.boxplot(by=\"gear\", column=\"mpg\")"
   ]
  },
  {
   "cell_type": "markdown",
   "metadata": {},
   "source": [
    "The spread of number of gears is interesting such that is looks similar to a bell curve. the median of 3 is less than 4, and 4 is greater than 5. The data clearly suggests no correlation but instead maybe an underlying association. My guess is that maybe 4 gears is optimal with 3 not being not efficient enough and 5 being unnecessary. An interesting observation but one that's likely not useful for linear regression which predicts mpg.\n",
    "\n",
    "Finally let’s look at how the number of carburetors affect mpg."
   ]
  },
  {
   "cell_type": "code",
   "execution_count": 24,
   "metadata": {},
   "outputs": [
    {
     "data": {
      "text/plain": [
       "<matplotlib.axes._subplots.AxesSubplot at 0x19e9d5914a8>"
      ]
     },
     "execution_count": 24,
     "metadata": {},
     "output_type": "execute_result"
    },
    {
     "data": {
      "image/png": "[encoded data removed]",
      "text/plain": [
       "<Figure size 432x288 with 1 Axes>"
      ]
     },
     "metadata": {
      "needs_background": "light"
     },
     "output_type": "display_data"
    }
   ],
   "source": [
    "cars_df.boxplot(by=\"carb\", column=\"mpg\")"
   ]
  },
  {
   "cell_type": "markdown",
   "metadata": {},
   "source": [
    "This one is interesting because the difference between 1 and 2 carburetors is not very different as is between 3 and 4 carburetors. but the difference between 1 and 2 versus 3 and 4 is statistically significant (with only 1 point of 6 carburetors being an outlier). Based on this observation I would suggest a correlation but maybe not a strong one since the only significant drop is between 2 and 3 carburetors.\n",
    "\n",
    "Overall, after looking at each of the variables and predicting how well they correlate with mpg, we can finally organize them into a ordered list based on how well I feel they correlate with mpg.\n",
    "\n",
    "1. Number of cylinders\n",
    "2. Displacement\n",
    "3. Weight\n",
    "4. Engine shape\n",
    "5. horsepower\n",
    "6. Transmission\n",
    "7. Number of carburetors\n",
    "8. Rear axle ratio\n",
    "9. 1/4 mile time\n",
    "10. Number of gears\n",
    "\n",
    "### Create Regression Models\n",
    "Now we want to confirm our observations by creating a regression model using the predictive features of the data.\n",
    "First, we must separate out our categorical variables and create dummy variables using 1 hot encoding for them. After that we can insert them back into our data frame and create a split (test/train) on our model (75% - 25%)."
   ]
  },
  {
   "cell_type": "code",
   "execution_count": 25,
   "metadata": {},
   "outputs": [
    {
     "name": "stdout",
     "output_type": "stream",
     "text": [
      "32 24 8\n",
      "{'cyl': array(['cyl_4', 'cyl_6', 'cyl_8'], dtype=object), 'vs': array(['vs_V-shaped', 'vs_straight'], dtype=object), 'am': array(['am_automatic', 'am_manual'], dtype=object), 'carb': array(['carb_1', 'carb_2', 'carb_3', 'carb_4', 'carb_6', 'carb_8'],\n",
      "      dtype=object), 'gear': array(['gear_3', 'gear_4', 'gear_5'], dtype=object)}\n"
     ]
    }
   ],
   "source": [
    "predictive_numerical_columns = ['disp', 'wt', 'hp']\n",
    "predictive_categorical_columns = ['cyl', 'vs', 'am', 'carb']\n",
    "predictive_all_columns = predictive_numerical_columns + predictive_categorical_columns\n",
    "# add remaining columns to column list\n",
    "all_columns = predictive_all_columns + ['drat', 'qsec', 'gear']\n",
    "\n",
    "categorical_columns = predictive_categorical_columns + ['gear']\n",
    "dummy_columns = {}\n",
    "for col_name in categorical_columns:\n",
    "    dummies = pd.get_dummies(cars_df[col_name], prefix=col_name)\n",
    "    dummy_columns[col_name] = dummies.columns.values\n",
    "    cars_df = cars_df.merge(dummies, left_index=True, right_index=True)\n",
    "    cars_df = cars_df.drop(columns=col_name)\n",
    "\n",
    "\n",
    "\n",
    "df_train, df_test = train_test_split(cars_df)\n",
    "print(cars_df.shape[0], df_train.shape[0], df_test.shape[0])\n",
    "print(dummy_columns)"
   ]
  },
  {
   "cell_type": "markdown",
   "metadata": {},
   "source": [
    "#### Null Model\n",
    "After splitting the testing and training data next we will work to create our null model using the intercept as a baseline to compare our future predictive models against. "
   ]
  },
  {
   "cell_type": "code",
   "execution_count": 26,
   "metadata": {},
   "outputs": [
    {
     "name": "stdout",
     "output_type": "stream",
     "text": [
      "<class 'numpy.ndarray'> (24, 1) float64\n",
      "<class 'numpy.ndarray'> (24,) float64\n"
     ]
    }
   ],
   "source": [
    "X_train = df_train[[\"disp\"]].astype(\"float64\").values\n",
    "X_test = df_test[[\"disp\"]].astype(\"float64\").values\n",
    "y_train = df_train[\"mpg\"].values\n",
    "y_test = df_test[\"mpg\"].values\n",
    "\n",
    "zeros_train = np.zeros(X_train.shape)\n",
    "zeros_test = np.zeros(X_test.shape)\n",
    "\n",
    "print(type(zeros_train), zeros_train.shape, zeros_train.dtype)\n",
    "print(type(y_train), y_train.shape, y_train.dtype)"
   ]
  },
  {
   "cell_type": "markdown",
   "metadata": {},
   "source": [
    "Using our dummy zeros variable we can create a single linear regression model to represent our null hypothesis."
   ]
  },
  {
   "cell_type": "code",
   "execution_count": 27,
   "metadata": {},
   "outputs": [
    {
     "data": {
      "text/plain": [
       "SGDRegressor(alpha=0.0001, average=False, early_stopping=False, epsilon=0.1,\n",
       "             eta0=0.01, fit_intercept=True, l1_ratio=0.15,\n",
       "             learning_rate='invscaling', loss='squared_loss', max_iter=5000,\n",
       "             n_iter_no_change=5, penalty='l2', power_t=0.25, random_state=None,\n",
       "             shuffle=True, tol=0.001, validation_fraction=0.1, verbose=0,\n",
       "             warm_start=False)"
      ]
     },
     "execution_count": 27,
     "metadata": {},
     "output_type": "execute_result"
    }
   ],
   "source": [
    "base_lr = SGDRegressor(max_iter=5000)\n",
    "base_lr.fit(zeros_train, y_train)"
   ]
  },
  {
   "cell_type": "markdown",
   "metadata": {},
   "source": [
    "Now we can use our model to create predictions and gather error."
   ]
  },
  {
   "cell_type": "code",
   "execution_count": 28,
   "metadata": {},
   "outputs": [
    {
     "name": "stdout",
     "output_type": "stream",
     "text": [
      "Base Model MSE: 42.49612619608489\n",
      "Base Model RMSE: 6.518905291234479\n"
     ]
    }
   ],
   "source": [
    "pred_prices_base_test = base_lr.predict(zeros_test)\n",
    "\n",
    "base_mse = mean_squared_error(y_test, pred_prices_base_test)\n",
    "base_rmse = np.sqrt(base_mse)\n",
    "\n",
    "print(\"Base Model MSE:\", base_mse)\n",
    "print(\"Base Model RMSE:\", base_rmse)"
   ]
  },
  {
   "cell_type": "markdown",
   "metadata": {},
   "source": [
    "The average predicted mpg error is ~6mpg which is quite a lot. Let's plot the testing model."
   ]
  },
  {
   "cell_type": "code",
   "execution_count": 29,
   "metadata": {},
   "outputs": [
    {
     "data": {
      "text/plain": [
       "Text(0, 0.5, 'Predicted Price')"
      ]
     },
     "execution_count": 29,
     "metadata": {},
     "output_type": "execute_result"
    },
    {
     "data": {
      "image/png": "[encoded data removed]",
      "text/plain": [
       "<Figure size 432x288 with 1 Axes>"
      ]
     },
     "metadata": {
      "needs_background": "light"
     },
     "output_type": "display_data"
    }
   ],
   "source": [
    "sns.regplot(x=y_test, y=pred_prices_base_test, fit_reg=False)\n",
    "plt.xlabel(\"True Price\", fontsize=16)\n",
    "plt.ylabel(\"Predicted Price\", fontsize=16)"
   ]
  },
  {
   "cell_type": "markdown",
   "metadata": {},
   "source": [
    "#### My Predictive Model\n",
    "To compare our null model, we can create a multiple regression model using the features I identified as predictive. For this, I will be using the top 7 features from my previous sorted list of predictions. \n",
    "\n",
    "1. Number of cylinders\n",
    "2. Displacement\n",
    "3. Weight\n",
    "4. Engine shape\n",
    "5. horsepower\n",
    "6. Transmission\n",
    "7. Number of carburetors"
   ]
  },
  {
   "cell_type": "markdown",
   "metadata": {},
   "source": [
    "First we define our method for creating feature matrixes out of the desired predictive features we want to use. Then we will feed in our set containing only our 7 predictive features and generate a linear regression model."
   ]
  },
  {
   "cell_type": "code",
   "execution_count": 30,
   "metadata": {},
   "outputs": [],
   "source": [
    "def create_feature_matrices(df_train, df_test, selected_columns, dummy_columns=None):\n",
    "    \"\"\"\n",
    "    Creates feature matrices for the training and testing sets from the given dataframes.\n",
    "    The feature matrices are built from the columns given in selected columns.\n",
    "    \"\"\"\n",
    "    \n",
    "    if dummy_columns is None:\n",
    "        dummy_columns = dict()\n",
    "    \n",
    "    # keep track of numerical features\n",
    "    numerical_trial_columns = []\n",
    "    \n",
    "    # keep track of dummy features for categorical variables\n",
    "    categorical_trial_columns = []\n",
    "    \n",
    "    # build feature lists\n",
    "    for col_name in selected_columns:\n",
    "        if col_name in dummy_columns:\n",
    "            categorical_trial_columns.extend(dummy_columns[col_name])\n",
    "        else:\n",
    "            numerical_trial_columns.append(col_name)\n",
    "\n",
    "    # transform numerical features\n",
    "    if len(numerical_trial_columns) > 0:\n",
    "        X_train_numerical = df_train[numerical_trial_columns].astype(\"float64\").values\n",
    "        X_test_numerical = df_test[numerical_trial_columns].astype(\"float64\").values\n",
    "    \n",
    "        #imputer = Imputer(missing_values=0)\n",
    "        #X_train_numerical = imputer.fit_transform(X_train_numerical)\n",
    "        #X_test_numerical = imputer.transform(X_test_numerical)\n",
    "    \n",
    "        scaler = StandardScaler()\n",
    "        X_train_numerical = scaler.fit_transform(X_train_numerical)\n",
    "        X_test_numerical = scaler.transform(X_test_numerical)\n",
    "    \n",
    "    # select categorical features\n",
    "    if len(categorical_trial_columns) > 0:\n",
    "        X_train_categorical = df_train[categorical_trial_columns].astype(\"float64\").values\n",
    "        X_test_categorical = df_test[categorical_trial_columns].astype(\"float64\").values\n",
    "    \n",
    "    # concatenate feature matrices\n",
    "    if len(numerical_trial_columns) > 0 and len(categorical_trial_columns) > 0:\n",
    "        X_train = np.hstack([X_train_numerical, X_train_categorical])\n",
    "        X_test = np.hstack([X_test_numerical, X_test_categorical])\n",
    "    elif len(numerical_trial_columns) > 0:\n",
    "        X_train = X_train_numerical\n",
    "        X_test = X_test_numerical\n",
    "    else:\n",
    "        X_train = X_train_categorical\n",
    "        X_test = X_test_categorical\n",
    "        \n",
    "    return X_train, X_test"
   ]
  },
  {
   "cell_type": "code",
   "execution_count": 31,
   "metadata": {},
   "outputs": [
    {
     "name": "stdout",
     "output_type": "stream",
     "text": [
      "(24,) (8,) (24, 16) (24, 16)\n",
      "\n",
      "Model MSE: 5.67182731300853\n",
      "Model RMSE: 2.3815598487143945\n"
     ]
    }
   ],
   "source": [
    "X_train, X_test = create_feature_matrices(df_train, df_test, predictive_all_columns, dummy_columns=dummy_columns)\n",
    "\n",
    "print(y_train.shape, y_test.shape, X_train.shape, X_train.shape)\n",
    "\n",
    "lr = SGDRegressor(max_iter=5000)\n",
    "lr.fit(X_train, y_train)\n",
    "pred_mpg_test = lr.predict(X_test)\n",
    "\n",
    "mse = mean_squared_error(y_test, pred_mpg_test)\n",
    "rmse = np.sqrt(mse)\n",
    "print()\n",
    "print(\"Model MSE:\", mse)\n",
    "print(\"Model RMSE:\", rmse)"
   ]
  },
  {
   "cell_type": "markdown",
   "metadata": {},
   "source": [
    "As we can see, our model which used the features we identified as predictive has a much better RMSE then the null model. Let's plot our predictive model to see how much better it actually is."
   ]
  },
  {
   "cell_type": "code",
   "execution_count": 32,
   "metadata": {
    "scrolled": true
   },
   "outputs": [
    {
     "data": {
      "text/plain": [
       "Text(0, 0.5, 'Predicted mpg')"
      ]
     },
     "execution_count": 32,
     "metadata": {},
     "output_type": "execute_result"
    },
    {
     "data": {
      "image/png": "[encoded data removed]",
      "text/plain": [
       "<Figure size 432x288 with 1 Axes>"
      ]
     },
     "metadata": {
      "needs_background": "light"
     },
     "output_type": "display_data"
    }
   ],
   "source": [
    "sns.regplot(x=y_test, y=pred_mpg_test, fit_reg=False)\n",
    "plt.plot([0, np.max(y_test)], [0, np.max(pred_mpg_test)])\n",
    "plt.xlabel(\"True mpg\", fontsize=16)\n",
    "plt.ylabel(\"Predicted mpg\", fontsize=16)"
   ]
  },
  {
   "cell_type": "markdown",
   "metadata": {},
   "source": [
    "This model is better than the null model for sure, but it still may not be the best possible model we can create. Let’s try and use a greedy algorithm to allow the computer to determine which variables have the most predictive power and build a model on those features.\n",
    "\n",
    "#### Greedy Predictive Model\n",
    "First, we define our method for sorting the predictive features as those which decrease the RMSE and sort the collumns on their RMSE."
   ]
  },
  {
   "cell_type": "code",
   "execution_count": 33,
   "metadata": {},
   "outputs": [],
   "source": [
    "def sort_columns(df_train, df_test, y_train, y_test, all_columns, dummy_columns=None):\n",
    "    column_rmses = []\n",
    "\n",
    "    for col_name in all_columns:\n",
    "        X_train, X_test = create_feature_matrices(df_train,\n",
    "                                                 df_test,\n",
    "                                                 [col_name],\n",
    "                                                 dummy_columns=dummy_columns)\n",
    "    \n",
    "        simple_lr = SGDRegressor(max_iter=5000)\n",
    "        simple_lr.fit(X_train, y_train)\n",
    "        pred_prices_simple_test = simple_lr.predict(X_test)\n",
    "        simple_mse = mean_squared_error(y_test, pred_prices_simple_test)\n",
    "        simple_rmse = np.sqrt(simple_mse)\n",
    "        print()\n",
    "        print(col_name + \" Model MSE:\", simple_mse)\n",
    "        print(col_name + \" Model RMSE:\", simple_rmse)\n",
    "        column_rmses.append((simple_rmse, col_name))\n",
    "    \n",
    "    column_rmses.sort(key=lambda p: p[0])\n",
    "    sorted_columns = [col_name for _, col_name in column_rmses]\n",
    "    print()\n",
    "    print(\"Sorted columns:\" + str(sorted_columns))\n",
    "    \n",
    "    return sorted_columns"
   ]
  },
  {
   "cell_type": "code",
   "execution_count": 37,
   "metadata": {},
   "outputs": [
    {
     "name": "stdout",
     "output_type": "stream",
     "text": [
      "\n",
      "disp Model MSE: 40.903663657768504\n",
      "disp Model RMSE: 6.395597208843636\n",
      "\n",
      "wt Model MSE: 37.707457757355854\n",
      "wt Model RMSE: 6.140639849181505\n",
      "\n",
      "hp Model MSE: 41.16734360344991\n",
      "hp Model RMSE: 6.416178270859524\n",
      "\n",
      "cyl Model MSE: 39.196008658726555\n",
      "cyl Model RMSE: 6.2606715820849885\n",
      "\n",
      "vs Model MSE: 41.66991006040797\n",
      "vs Model RMSE: 6.455223470989054\n",
      "\n",
      "am Model MSE: 39.990579128729394\n",
      "am Model RMSE: 6.323810491209346\n",
      "\n",
      "carb Model MSE: 33.14745858818963\n",
      "carb Model RMSE: 5.757382963481727\n",
      "\n",
      "drat Model MSE: 42.447029454901795\n",
      "drat Model RMSE: 6.515138483171467\n",
      "\n",
      "qsec Model MSE: 44.48802326255499\n",
      "qsec Model RMSE: 6.669934277229048\n",
      "\n",
      "gear Model MSE: 41.99801540791908\n",
      "gear Model RMSE: 6.48058758199587\n",
      "\n",
      "Sorted columns:['carb', 'wt', 'cyl', 'am', 'disp', 'hp', 'vs', 'gear', 'drat', 'qsec']\n"
     ]
    }
   ],
   "source": [
    "df_train, df_test = train_test_split(cars_df)\n",
    "sorted_columns = sort_columns(df_train, df_test, y_train, y_test, all_columns, dummy_columns=dummy_columns)"
   ]
  },
  {
   "cell_type": "markdown",
   "metadata": {},
   "source": [
    "Now that the features are sorted based on their predictive power, we can feed them into our greedy algorithm. This method will attempt to add features 1 at a time and discard those which do not decrease the RMSE."
   ]
  },
  {
   "cell_type": "code",
   "execution_count": 36,
   "metadata": {},
   "outputs": [],
   "source": [
    "def select_features(df_train, df_test, y_train, y_test, sorted_columns, dummy_columns=None):\n",
    "    lr = SGDRegressor(max_iter=5000)\n",
    "    \n",
    "    train_zeros = np.zeros((y_train.shape[0], 1))\n",
    "    test_zeros = np.zeros((y_test.shape[0], 1))\n",
    "    lr.fit(train_zeros, y_train)\n",
    "    pred_y_test = lr.predict(test_zeros)\n",
    "    \n",
    "    null_mse = mean_squared_error(y_test, pred_y_test)\n",
    "    null_rmse = np.sqrt(null_mse)\n",
    "    \n",
    "    base_model_columns = []\n",
    "    base_rmse = null_rmse\n",
    "    base_mse = null_mse\n",
    "\n",
    "    print(\"Base Model MSE:\", base_mse)\n",
    "    print(\"Base Model RMSE:\", base_rmse)\n",
    "    print()\n",
    "\n",
    "    for col_name in sorted_columns:\n",
    "        # track all column names\n",
    "        trial_columns = base_model_columns[:]\n",
    "        trial_columns.append(col_name)\n",
    "\n",
    "        X_train, X_test = create_feature_matrices(df_train,\n",
    "                                                  df_test,\n",
    "                                                  trial_columns,\n",
    "                                                  dummy_columns=dummy_columns)\n",
    "    \n",
    "        lr = SGDRegressor(max_iter=5000)\n",
    "        lr.fit(X_train, y_train)\n",
    "        pred_y_test = lr.predict(X_test)\n",
    "        trial_mse = mean_squared_error(y_test, pred_y_test)\n",
    "        trial_rmse = np.sqrt(trial_mse)\n",
    "        print()\n",
    "        print(str(trial_columns) + \" Model MSE:\", trial_mse)\n",
    "        print(str(trial_columns) + \" Model RMSE:\", trial_rmse)\n",
    "    \n",
    "        if trial_rmse < base_rmse:\n",
    "            print(\"Updating base model\")\n",
    "            base_rmse = trial_rmse\n",
    "            base_mse = trial_mse\n",
    "            base_model_columns = trial_columns\n",
    "        \n",
    "        print()\n",
    "        print(\"Base Model MSE:\", base_mse)\n",
    "        print(\"Base Model RMSE:\", base_rmse)\n",
    "        print()\n",
    "    \n",
    "    print(\"Our chosen columns are: \" + str(base_model_columns))\n",
    "    return base_model_columns"
   ]
  },
  {
   "cell_type": "code",
   "execution_count": 38,
   "metadata": {},
   "outputs": [
    {
     "name": "stdout",
     "output_type": "stream",
     "text": [
      "Base Model MSE: 42.47052413165243\n",
      "Base Model RMSE: 6.516941317186494\n",
      "\n",
      "\n",
      "['carb'] Model MSE: 33.12525679117758\n",
      "['carb'] Model RMSE: 5.755454525159379\n",
      "Updating base model\n",
      "\n",
      "Base Model MSE: 33.12525679117758\n",
      "Base Model RMSE: 5.755454525159379\n",
      "\n",
      "\n",
      "['carb', 'wt'] Model MSE: 32.30488392727206\n",
      "['carb', 'wt'] Model RMSE: 5.683738551980735\n",
      "Updating base model\n",
      "\n",
      "Base Model MSE: 32.30488392727206\n",
      "Base Model RMSE: 5.683738551980735\n",
      "\n",
      "\n",
      "['carb', 'wt', 'cyl'] Model MSE: 24.113420973042544\n",
      "['carb', 'wt', 'cyl'] Model RMSE: 4.910541820720249\n",
      "Updating base model\n",
      "\n",
      "Base Model MSE: 24.113420973042544\n",
      "Base Model RMSE: 4.910541820720249\n",
      "\n",
      "\n",
      "['carb', 'wt', 'cyl', 'am'] Model MSE: 23.092814817023935\n",
      "['carb', 'wt', 'cyl', 'am'] Model RMSE: 4.805498394237993\n",
      "Updating base model\n",
      "\n",
      "Base Model MSE: 23.092814817023935\n",
      "Base Model RMSE: 4.805498394237993\n",
      "\n",
      "\n",
      "['carb', 'wt', 'cyl', 'am', 'disp'] Model MSE: 23.813691590934653\n",
      "['carb', 'wt', 'cyl', 'am', 'disp'] Model RMSE: 4.87992741656417\n",
      "\n",
      "Base Model MSE: 23.092814817023935\n",
      "Base Model RMSE: 4.805498394237993\n",
      "\n",
      "\n",
      "['carb', 'wt', 'cyl', 'am', 'hp'] Model MSE: 25.722851380089313\n",
      "['carb', 'wt', 'cyl', 'am', 'hp'] Model RMSE: 5.071770044086119\n",
      "\n",
      "Base Model MSE: 23.092814817023935\n",
      "Base Model RMSE: 4.805498394237993\n",
      "\n",
      "\n",
      "['carb', 'wt', 'cyl', 'am', 'vs'] Model MSE: 22.858083527685565\n",
      "['carb', 'wt', 'cyl', 'am', 'vs'] Model RMSE: 4.781012814005581\n",
      "Updating base model\n",
      "\n",
      "Base Model MSE: 22.858083527685565\n",
      "Base Model RMSE: 4.781012814005581\n",
      "\n",
      "\n",
      "['carb', 'wt', 'cyl', 'am', 'vs', 'gear'] Model MSE: 27.912688319080605\n",
      "['carb', 'wt', 'cyl', 'am', 'vs', 'gear'] Model RMSE: 5.283246002135487\n",
      "\n",
      "Base Model MSE: 22.858083527685565\n",
      "Base Model RMSE: 4.781012814005581\n",
      "\n",
      "\n",
      "['carb', 'wt', 'cyl', 'am', 'vs', 'drat'] Model MSE: 23.59675809655613\n",
      "['carb', 'wt', 'cyl', 'am', 'vs', 'drat'] Model RMSE: 4.857649441505236\n",
      "\n",
      "Base Model MSE: 22.858083527685565\n",
      "Base Model RMSE: 4.781012814005581\n",
      "\n",
      "\n",
      "['carb', 'wt', 'cyl', 'am', 'vs', 'qsec'] Model MSE: 22.56393098770658\n",
      "['carb', 'wt', 'cyl', 'am', 'vs', 'qsec'] Model RMSE: 4.750150627896613\n",
      "Updating base model\n",
      "\n",
      "Base Model MSE: 22.56393098770658\n",
      "Base Model RMSE: 4.750150627896613\n",
      "\n",
      "Our chosen columns are: ['carb', 'wt', 'cyl', 'am', 'vs', 'qsec']\n"
     ]
    }
   ],
   "source": [
    "selected_columns = select_features(df_train, df_test, y_train, y_test, sorted_columns, dummy_columns=dummy_columns)"
   ]
  },
  {
   "cell_type": "markdown",
   "metadata": {},
   "source": [
    "Our greedy algorithm selected features it believes is most predictive. What’s interesting is that the RMSE is actually worse than our hypothesized model. I’m not really sure as to why it didn’t pick up on the same features as I did but let’s plot the model and compare."
   ]
  },
  {
   "cell_type": "code",
   "execution_count": 39,
   "metadata": {},
   "outputs": [
    {
     "name": "stdout",
     "output_type": "stream",
     "text": [
      "(24, 15) (8, 15)\n",
      "\n",
      "Model MSE: 22.633368097600133\n",
      "Model RMSE: 4.757453951180204\n"
     ]
    }
   ],
   "source": [
    "X_train, X_test = create_feature_matrices(df_train, df_test, selected_columns, dummy_columns=dummy_columns)\n",
    "\n",
    "print(X_train.shape, X_test.shape)\n",
    "\n",
    "lr = SGDRegressor(max_iter=5000)\n",
    "lr.fit(X_train, y_train)\n",
    "pred_prices_test = lr.predict(X_test)\n",
    "\n",
    "mse = mean_squared_error(y_test, pred_prices_test)\n",
    "rmse = np.sqrt(mse)\n",
    "print()\n",
    "print(\"Model MSE:\", mse)\n",
    "print(\"Model RMSE:\", rmse)"
   ]
  },
  {
   "cell_type": "code",
   "execution_count": 41,
   "metadata": {},
   "outputs": [
    {
     "data": {
      "text/plain": [
       "Text(0, 0.5, 'Predicted mpg')"
      ]
     },
     "execution_count": 41,
     "metadata": {},
     "output_type": "execute_result"
    },
    {
     "data": {
      "image/png": "[encoded data removed]",
      "text/plain": [
       "<Figure size 432x288 with 1 Axes>"
      ]
     },
     "metadata": {
      "needs_background": "light"
     },
     "output_type": "display_data"
    }
   ],
   "source": [
    "sns.regplot(x=y_test, y=pred_prices_test, fit_reg=False)\n",
    "plt.plot([0, np.max(y_test)], [0, np.max(pred_prices_test)])\n",
    "plt.xlabel(\"True mpg\", fontsize=16)\n",
    "plt.ylabel(\"Predicted mpg\", fontsize=16)"
   ]
  },
  {
   "cell_type": "markdown",
   "metadata": {},
   "source": [
    "Overall, the greedy model performed better than the null model but is worse than my predictive model. \n",
    "\n",
    "#### All Model\n",
    "Finally, just to compare against, we can create an \"all model\" which uses all of the features as predictors to mpg."
   ]
  },
  {
   "cell_type": "code",
   "execution_count": 42,
   "metadata": {},
   "outputs": [
    {
     "name": "stdout",
     "output_type": "stream",
     "text": [
      "(24, 21) (8, 21)\n",
      "\n",
      "Model MSE: 30.447031805469006\n",
      "Model RMSE: 5.51788290972806\n"
     ]
    }
   ],
   "source": [
    "X_train, X_test = create_feature_matrices(df_train, df_test, all_columns, dummy_columns=dummy_columns)\n",
    "\n",
    "print(X_train.shape, X_test.shape)\n",
    "\n",
    "lr = SGDRegressor(max_iter=5000)\n",
    "lr.fit(X_train, y_train)\n",
    "pred_prices_test = lr.predict(X_test)\n",
    "\n",
    "mse = mean_squared_error(y_test, pred_prices_test)\n",
    "rmse = np.sqrt(mse)\n",
    "print()\n",
    "print(\"Model MSE:\", mse)\n",
    "print(\"Model RMSE:\", rmse)"
   ]
  },
  {
   "cell_type": "code",
   "execution_count": 43,
   "metadata": {},
   "outputs": [
    {
     "data": {
      "text/plain": [
       "Text(0, 0.5, 'Predicted mpg')"
      ]
     },
     "execution_count": 43,
     "metadata": {},
     "output_type": "execute_result"
    },
    {
     "data": {
      "image/png": "[encoded data removed]",
      "text/plain": [
       "<Figure size 432x288 with 1 Axes>"
      ]
     },
     "metadata": {
      "needs_background": "light"
     },
     "output_type": "display_data"
    }
   ],
   "source": [
    "sns.regplot(x=y_test, y=pred_prices_test, fit_reg=False)\n",
    "plt.plot([0, np.max(y_test)], [0, np.max(pred_prices_test)])\n",
    "plt.xlabel(\"True mpg\", fontsize=16)\n",
    "plt.ylabel(\"Predicted mpg\", fontsize=16)"
   ]
  },
  {
   "cell_type": "markdown",
   "metadata": {},
   "source": [
    " The all model turned out to be better than the null model but worse than the greedy algorithm and my predictive model. \n",
    "\n",
    "### Model evaluation and reflection\n",
    "The null model had an RMSE of 6.52, my predictive model had an RMSE of 2.38, the greedy algorithm had an RMSE of 4.76, and finally the all model had an RMSE of 5.52.\n",
    "\n",
    "It’s almost to be expected that the null model has the worst predictive power, with the all model being better but still not great. What’s most interesting is how the greedy algorithm was not as good as my predictive model. This likely is attributed to differences in the testing and training data sets (since they were so small). My predictive model was based on being able to see the entire population and guessed trends based on that; versus the greedy model which was limited to only the training data set and it is likely the case that the training data set was not a great representation of the testing set and by extension the entire population. Therefore, the greedy algorithm made predictions that it thought was most effective based on the training data set. But in reality, the training data set was likley quite different then the testing set.\n",
    "\n",
    "In the end, I think the most predictive features were those which were in my model but not in the greedy model. This includes displacement and horsepower because these were the features that must have made my model that much more predictive then the greedy model (since my model was the most accurate). Next up in line could be features that both my model and the greedy model shared such as number of carburetors, number of cylinders, transmission type, and engine shape. The rest of the features predictive capabilities are much more questionable."
   ]
  }
 ],
 "metadata": {
  "kernelspec": {
   "display_name": "Python 3",
   "language": "python",
   "name": "python3"
  },
  "language_info": {
   "codemirror_mode": {
    "name": "ipython",
    "version": 3
   },
   "file_extension": ".py",
   "mimetype": "text/x-python",
   "name": "python",
   "nbconvert_exporter": "python",
   "pygments_lexer": "ipython3",
   "version": "3.7.3"
  }
 },
 "nbformat": 4,
 "nbformat_minor": 2
}
